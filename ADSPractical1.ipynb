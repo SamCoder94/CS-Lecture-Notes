{
 "cells": [
  {
   "cell_type": "markdown",
   "id": "e8c39ea7",
   "metadata": {},
   "source": [
    "<h2>Question 1</h2>\n",
    "<br>\n",
    "a) This algorithm computes the product of all odd numbers within a given interval L to H<br>\n",
    "b) Pseudocode for it as a for loop is below:<br>\n",
    "\n",
    "int p = 1<br>\n",
    "for i = L to H do<br>\n",
    "    if i%2 != 0 then<br>\n",
    "        p = p * i<br>\n",
    "    end if<br>\n",
    "end for<br>\n",
    "return p<br>"
   ]
  },
  {
   "cell_type": "code",
   "execution_count": null,
   "id": "451ebfff",
   "metadata": {},
   "outputs": [
    {
     "name": "stdout",
     "output_type": "stream",
     "text": [
      "Result is 945\n",
      "Result is 945\n"
     ]
    }
   ],
   "source": [
    "def OddProduct1(L, H):\n",
    "    p = 1\n",
    "    while L<= H:\n",
    "        if L%2 != 0 :\n",
    "            p = p*L\n",
    "        L +=1\n",
    "    print(\"Result is\", str(p))\n",
    "\n",
    "def OddProduct2(L, H):\n",
    "    p = 1\n",
    "    for x in range(L,H+1):\n",
    "        if x%2 != 0:\n",
    "            p = p*x\n",
    "    print(\"Result is\",str(p))\n",
    "\n",
    "OddProduct1(2,10)\n",
    "OddProduct2(2,10)"
   ]
  },
  {
   "cell_type": "markdown",
   "id": "07b56bc1",
   "metadata": {},
   "source": [
    "<hr>\n",
    "<h2>Question 2</h2>\n",
    "<br>\n",
    "int small = a[0]<br>\n",
    "int prevSmall = 0<br>\n",
    "for i = 1 to n do<br>\n",
    "> if a[i] <= small then<br>\n",
    ">> prevSmall = small<br>\n",
    ">> small = a[i]<br>\n",
    "> end if<br>\n",
    "end for<br>\n",
    "return prevSmall"
   ]
  },
  {
   "cell_type": "code",
   "execution_count": 18,
   "id": "03bc6b30",
   "metadata": {},
   "outputs": [
    {
     "name": "stdout",
     "output_type": "stream",
     "text": [
      "Second smallest is 2\n"
     ]
    }
   ],
   "source": [
    "def secondSmallest(n, a=[]):\n",
    "    small = a[0]\n",
    "    prevSmall = 0\n",
    "    smallest = min(a)\n",
    "    start = 1\n",
    "    if small == smallest:\n",
    "        start = 2\n",
    "        small = a[1]\n",
    "    for i in range(start,n):\n",
    "        if a[i] <= small:\n",
    "            prevSmall = small\n",
    "            small = a[i]\n",
    "    if a[0] == smallest:\n",
    "        print(\"Second smallest is\", str(small))\n",
    "    else:\n",
    "        print(\"Second smallest is\", str(prevSmall))\n",
    "\n",
    "secondSmallest(4,[1,3,2,4])"
   ]
  },
  {
   "cell_type": "markdown",
   "id": "9b870bce",
   "metadata": {},
   "source": [
    "<hr>\n",
    "<h2>Question 3</h2>\n",
    "\n",
    "input n<br>\n",
    "count = 0 <br>\n",
    "for i = 1 to n do<br> \n",
    "> if n%i = 0 then<br>\n",
    ">> count +=1<br>\n",
    ">end if<br>\n",
    "end for<br>\n",
    "if count > 1 then<br>\n",
    "> return false<br>\n",
    "else<br>\n",
    "> return true<br>\n",
    "end if<br>"
   ]
  },
  {
   "cell_type": "code",
   "execution_count": 36,
   "id": "b6548b9e",
   "metadata": {},
   "outputs": [
    {
     "name": "stdout",
     "output_type": "stream",
     "text": [
      "True\n",
      "True\n",
      "False\n"
     ]
    }
   ],
   "source": [
    "import math\n",
    "def isFalse(n):\n",
    "    count = 0\n",
    "    i = 2\n",
    "    while count == 0:\n",
    "        if n%i == 0:\n",
    "            count += 1\n",
    "        i+=1\n",
    "        if i == (math.sqrt(n)//1)+1:\n",
    "            break   \n",
    "    if i == (math.sqrt(n)//1)+1:\n",
    "        return True\n",
    "    else:\n",
    "        return False\n",
    "\n",
    "print(str(isFalse(37)))\n",
    "print(str(isFalse(65537)))\n",
    "print(str(isFalse(10)))"
   ]
  },
  {
   "cell_type": "markdown",
   "id": "ba821bfa",
   "metadata": {},
   "source": [
    "<hr>\n",
    "<h2>Question 4</h2>\n",
    "<br>\n",
    "\n",
    "input d\n",
    "input m\n",
    "input y\n",
    "input k\n",
    "dayNum = y*360 + m*30 + d + k\n",
    "d = dayNum % 30\n",
    "m = (dayNum - d) % 12\n",
    "y = (dayNum - d - 30*m)\n",
    "\n"
   ]
  },
  {
   "cell_type": "code",
   "execution_count": 53,
   "id": "47bd4847",
   "metadata": {},
   "outputs": [
    {
     "name": "stdout",
     "output_type": "stream",
     "text": [
      "1 12 2025\n"
     ]
    }
   ],
   "source": [
    "def findDate(d,m,y,k):\n",
    "    yd = k // 360\n",
    "    k = k - 360*yd\n",
    "    md = k // 30\n",
    "    k = k - 30*md\n",
    "    y  = y + yd\n",
    "    m = m + md\n",
    "    d = k+d\n",
    "    print(str(d),str(m),str(y))\n",
    "\n",
    "findDate(1,1,2025, 330)"
   ]
  }
 ],
 "metadata": {
  "kernelspec": {
   "display_name": "Python 3",
   "language": "python",
   "name": "python3"
  },
  "language_info": {
   "codemirror_mode": {
    "name": "ipython",
    "version": 3
   },
   "file_extension": ".py",
   "mimetype": "text/x-python",
   "name": "python",
   "nbconvert_exporter": "python",
   "pygments_lexer": "ipython3",
   "version": "3.13.2"
  }
 },
 "nbformat": 4,
 "nbformat_minor": 5
}
