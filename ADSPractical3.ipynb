{
 "cells": [
  {
   "cell_type": "markdown",
   "id": "54bdfb49",
   "metadata": {},
   "source": [
    "<h1>Question 1</h1>\n",
    "a - Queue, most recent entry should have lowest priority for output, so FIFO structure is needed<br>\n",
    "b - Stack, we need the most recent page visited to be the next output, so a LIFO structure is needed<br>\n",
    "c - Queue<br>\n",
    "d - Stack<br>\n",
    "\n",
    "Stack can be used for tracking recursion or reversing a string<br>\n",
    "Queue can be used for outputting a string letter by letter<br>\n",
    "\n",
    "<hr>\n",
    "<h1>Question 2</h1>\n",
    "Line 1: -, [4]<br>\n",
    "Line 2: -, [4,6]<br>\n",
    "Line 3: 4, [6]<br>\n",
    "Line 4: -, [6,2]<br>\n",
    "Line 5: 6, [2]<br>\n",
    "Line 6: 2, [2]<br>\n",
    "Line 7: 2, []<br>\n",
    "Line 8: Error, []<br>\n",
    "Line 9: true, []<br>\n",
    "Line 10: -, [1]<br>\n",
    "Line 11: -, [1,2]<br>\n",
    "Line 12: 2, [1,2]<br>\n",
    "Line 13: -, [1,2,6]<br>\n",
    "Line 14: -, [1,2,6,4]<br>\n",
    "Line 15: 1, [2,6,4]<br>\n",
    "\n",
    "<hr>\n",
    "<h1>Question 3</h1>\n",
    "Line 1: -, [2]<br>\n",
    "Line 2: -, [9,2]<br>\n",
    "Line 3: -, [8,9,2]<br>\n",
    "Line 4: 8, [9,2]<br>\n",
    "Line 5: 9, [2]<br>\n",
    "Line 6: 2, [2]<br>\n",
    "Line 7: 2, []<br>\n",
    "Line 8: Error, []<br>\n",
    "Line 9: true, []<br>\n",
    "Line 10: -, [1]\n",
    "Line 11: -, [3,1]\n",
    "Line 12: -, [5,3,1]\n",
    "Line 13: 3, [5,3,1]\n",
    "Line 14: - [2,5,3,1]\n",
    "Line 15: 2, [5,3,1]"
   ]
  }
 ],
 "metadata": {
  "kernelspec": {
   "display_name": "Python 3",
   "language": "python",
   "name": "python3"
  },
  "language_info": {
   "name": "python",
   "version": "3.13.2"
  }
 },
 "nbformat": 4,
 "nbformat_minor": 5
}
