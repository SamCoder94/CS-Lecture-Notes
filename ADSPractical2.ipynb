{
 "cells": [
  {
   "cell_type": "markdown",
   "id": "04a04df7",
   "metadata": {},
   "source": [
    "<h2>Question 4</h2>\n",
    "Have a left pointer and a right pointer.<br>\n",
    "Initialise left pointer (left) as the head, right pointer (right) as the tail<br>\n",
    "while right != left do<br>\n",
    " right = right.prev<br>\n",
    " left = left.next<br>\n",
    "return right"
   ]
  },
  {
   "cell_type": "markdown",
   "id": "3e4d825a",
   "metadata": {},
   "source": [
    "<h2>Question 2</h2>\n",
    "Counts how many times a number k appears in the array"
   ]
  },
  {
   "cell_type": "markdown",
   "id": "380abb09",
   "metadata": {},
   "source": [
    "<h2>Question 3</h2>\n",
    "<p>On NCC</p>"
   ]
  },
  {
   "cell_type": "markdown",
   "id": "f0c98f36",
   "metadata": {},
   "source": [
    "<h2>Question 5</h2>\n",
    "a) Could use a matrix (list of lists), which would be nxn, one row and column for each player, all initialised as 0, then if a player n has met a player m, L[m][n] = 1 = L[n][m]<br>\n",
    "b) Have a function hasWon(n) which is called inside the update(n,m) function. This function should contain a for loop to check for all i = 0 to n, L[n][i] and return False if a 0 is found (using a break statement). This should be called for both n and m in the update function."
   ]
  }
 ],
 "metadata": {
  "language_info": {
   "name": "python"
  }
 },
 "nbformat": 4,
 "nbformat_minor": 5
}
