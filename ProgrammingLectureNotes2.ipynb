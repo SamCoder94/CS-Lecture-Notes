{
 "cells": [
  {
   "cell_type": "markdown",
   "id": "9908017d",
   "metadata": {},
   "source": [
    "<h1>JavaScript Objects</h1>\n",
    "<h2>Objects</h2>\n",
    " - Non-Primitive, mutable data type<br>\n",
    " - Stores a collection of data properties<br>\n",
    " - Create with constructor or literal syntax<br>\n",
    " - Access with dot or square brackets<br>\n",
    " - Inheritance through prototyping<br>\n",
    " - Block defined, so should use let and const<br>\n",
    " - Instances of the class object<br>\n",
    "\n",
    "Constructor vs literal:\n",
    " - Constructor is classic way\n",
    " - Literal is less efficient way and can lead to errors\n",
    " - Literal uses pair values\n",
    " - Constuctor function (itself an object), can create many objects of same type (class)\n",
    " - Keyword new\n",
    "\n",
    "Basic Operations:\n",
    " - Get, access property\n",
    " - Set, change property\n",
    " - Delete, remove property\n",
    "\n",
    "this key word accesses the object it is called on<br>\n",
    "<br>\n",
    "Functions are themselves First Class Objects, Must take inputs and return outputs to be true function.<br>\n",
    "Can define functions without name, e.g. const x = function(length){return length**2;}<br>\n",
    "Functions may be assigned as properties of an object, often called an instance method and uses keyword this<br>\n",
    "\n",
    "<h2>Object Prototypes</h2>\n",
    " - Are themselves objects and therefore datatype<br>\n",
    " - Prototypes are ho objects inherit features from one another<br>\n",
    " - All objects have prototype until null is reached<br>\n",
    " - Objects may look up but not down<br>\n",
    " - hasOwnProperty() returns boolean indicating whether or not specified property has own, rather than inheriting<br>\n",
    " - Set prototypes using Object.assign(myObject.prototype, prototypeName)\n",
    " - Or (deprecated) we can use attribute __proto__ = prototypeName\n",
    " - "
   ]
  }
 ],
 "metadata": {
  "language_info": {
   "name": "python"
  }
 },
 "nbformat": 4,
 "nbformat_minor": 5
}
